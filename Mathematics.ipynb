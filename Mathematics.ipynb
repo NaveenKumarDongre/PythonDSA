{
 "cells": [
  {
   "cell_type": "markdown",
   "id": "89ecf107-c3cd-43f0-aaaf-30b49fc80384",
   "metadata": {},
   "source": [
    "# Mathematics"
   ]
  },
  {
   "cell_type": "markdown",
   "id": "984f51ad-9147-4c57-9a93-1f627125668d",
   "metadata": {},
   "source": [
    "## 1. Sum of Natural Numbers"
   ]
  },
  {
   "cell_type": "code",
   "execution_count": 9,
   "id": "638c17ba-11e4-42e7-8799-ec860d85fab0",
   "metadata": {},
   "outputs": [
    {
     "name": "stdin",
     "output_type": "stream",
     "text": [
      "ENTER THE NUMBER:  10\n"
     ]
    },
    {
     "name": "stdout",
     "output_type": "stream",
     "text": [
      "55\n",
      "55\n"
     ]
    }
   ],
   "source": [
    "def normalWaySumOfNaturalNum(n):\n",
    "    total = 0\n",
    "    for i in range(1, n+1):\n",
    "        total += i \n",
    "    return total \n",
    "# Time complexity O(N)\n",
    "\n",
    "def sumOfNaturalNum(n):\n",
    "    return n*(n+1)//2 \n",
    "# Time complexity O(1)\n",
    "\n",
    "n = int(input(\"ENTER THE NUMBER: \") )\n",
    "print(sumOfNaturalNum(n))\n",
    "print(normalWaySumOfNaturalNum(n))"
   ]
  },
  {
   "cell_type": "markdown",
   "id": "0450e349-436d-4305-9d0c-8def9582ac72",
   "metadata": {},
   "source": [
    "## Count Digits in a number"
   ]
  },
  {
   "cell_type": "code",
   "execution_count": 10,
   "id": "1a318f3e-d7f4-43bb-9024-b453749d1a26",
   "metadata": {},
   "outputs": [
    {
     "name": "stdin",
     "output_type": "stream",
     "text": [
      "Enter the number:  3242\n"
     ]
    },
    {
     "name": "stdout",
     "output_type": "stream",
     "text": [
      "4\n"
     ]
    }
   ],
   "source": [
    "\"\"\"\n",
    "Note : x > 0\n",
    "x = 9253 -> 4 digits\n",
    "x = 4 -> 1 digit \n",
    "x = 22 -> 2 digits \n",
    "\"\"\"\n",
    "def countDigits(n):\n",
    "    total_digits = 0 \n",
    "    while(n != 0):\n",
    "        total_digits += 1\n",
    "        n = n // 10 \n",
    "    return total_digits\n",
    "# Time complexity is O(log(N)base10) or we can say total number of digits\n",
    "\n",
    "n = int(input(\"Enter the number: \"))\n",
    "print(countDigits(n))"
   ]
  },
  {
   "cell_type": "code",
   "execution_count": 14,
   "id": "fe11f3d8-b6ca-475a-bbb0-4e5668304333",
   "metadata": {},
   "outputs": [
    {
     "name": "stdin",
     "output_type": "stream",
     "text": [
      "enter the number \n",
      " 000101\n"
     ]
    },
    {
     "name": "stdout",
     "output_type": "stream",
     "text": [
      "101\n",
      "['1', '0', '1']\n"
     ]
    },
    {
     "data": {
      "text/plain": [
       "3"
      ]
     },
     "execution_count": 14,
     "metadata": {},
     "output_type": "execute_result"
    }
   ],
   "source": [
    "x=int(input('enter the number \\n'))\n",
    "print(x)\n",
    "x=list(str(x))\n",
    "print(x)\n",
    "len(x)"
   ]
  },
  {
   "cell_type": "markdown",
   "id": "2369a3ff-ca54-48ea-b3d6-a4d08c63852f",
   "metadata": {},
   "source": [
    "## 3. Palindrome Number"
   ]
  },
  {
   "cell_type": "code",
   "execution_count": null,
   "id": "db918780-3457-448a-8884-f39e55679410",
   "metadata": {},
   "outputs": [],
   "source": [
    "\"\"\"\n",
    "n = 78987 -> True (yes palindrome)\n",
    "n = 21 -> False (Not a palindrome) \n",
    "n = 7 -> True (yes palindrome)\n",
    "\"\"\"\n",
    "# Basically the original number and the reverse of the number should be same!\n",
    "def checkPalindrome(n):\n",
    "    org_num = n \n",
    "    rev_num = 0\n",
    "    while n:\n",
    "        rem = n % 10 \n",
    "        rev_num = rev_num*10 + rem\n",
    "        n = n // 10 \n",
    "    return \"YES Palindrome\" if org_num == rev_num else \"Not Palindrome\" \n",
    "\n",
    "n = int(\n",
    "    "
   ]
  }
 ],
 "metadata": {
  "kernelspec": {
   "display_name": "Python 3 (ipykernel)",
   "language": "python",
   "name": "python3"
  },
  "language_info": {
   "codemirror_mode": {
    "name": "ipython",
    "version": 3
   },
   "file_extension": ".py",
   "mimetype": "text/x-python",
   "name": "python",
   "nbconvert_exporter": "python",
   "pygments_lexer": "ipython3",
   "version": "3.11.1"
  }
 },
 "nbformat": 4,
 "nbformat_minor": 5
}
